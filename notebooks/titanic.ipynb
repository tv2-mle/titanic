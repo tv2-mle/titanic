{
 "cells": [
  {
   "cell_type": "code",
   "execution_count": 0,
   "metadata": {
    "application/vnd.databricks.v1+cell": {
     "cellMetadata": {
      "byteLimit": 2048000,
      "rowLimit": 10000
     },
     "inputWidgets": {},
     "nuid": "8be1fc47-1bc8-49f9-8cbb-50a2039493f2",
     "showTitle": false,
     "tableResultSettingsMap": {},
     "title": ""
    }
   },
   "outputs": [],
   "source": [
    "from pyspark.sql import SparkSession\n",
    "\n",
    "# Get the active SparkSession (Databricks provides this automatically as `spark`)\n",
    "spark = SparkSession.builder.getOrCreate()\n",
    "\n",
    "# Set catalog and schema (adjust if needed)\n",
    "spark.sql(\"USE CATALOG dp_ml_raw\")\n",
    "spark.sql(\"USE dp_ml_raw.dp_ml_titanic\")\n",
    "\n",
    "# Create the Delta table directly from the CSV files in the Volume\n",
    "spark.sql(\"\"\"\n",
    "CREATE table IF NOT EXISTS dp_ml_raw.dp_ml_titanic.dp_ml_titanic_train_raw\n",
    "USING DELTA\n",
    "CLUSTER BY (PassengerId)\n",
    "SELECT *\n",
    "FROM read_files(\n",
    "  'dbfs:/Volumes/dp_ml_raw/dp_ml_titanic/titanic_raw_data/train.csv',\n",
    "  format => 'csv',\n",
    "  header => true,\n",
    "  inferSchema => true\n",
    ")\n",
    "\"\"\")\n",
    "\n",
    "spark.sql(\"\"\"\n",
    "CREATE table IF NOT EXISTS dp_ml_raw.dp_ml_titanic.dp_ml_titanic_test_raw\n",
    "USING DELTA\n",
    "CLUSTER BY (PassengerId)\n",
    "SELECT *\n",
    "FROM read_files(\n",
    "  'dbfs:/Volumes/dp_ml_raw/dp_ml_titanic/titanic_raw_data/test.csv',\n",
    "  format => 'csv',\n",
    "  header => true,\n",
    "  inferSchema => true\n",
    ")\n",
    "          \"\"\")\n",
    "\n",
    "# Preview a few rows\n",
    "display(spark.table(\"dp_ml_raw.dp_ml_titanic.dp_ml_titanic_train_raw\").limit(10))\n",
    "df_train = spark.sql(\"SELECT * FROM dp_ml_raw.dp_ml_titanic.dp_ml_titanic_train_raw\")\n",
    "df_test = spark.sql(\"SELECT * FROM dp_ml_raw.dp_ml_titanic.dp_ml_titanic_test_raw\")\n"
   ]
  },
  {
   "cell_type": "code",
   "execution_count": 0,
   "metadata": {
    "application/vnd.databricks.v1+cell": {
     "cellMetadata": {
      "byteLimit": 2048000,
      "rowLimit": 10000
     },
     "inputWidgets": {},
     "nuid": "143b74ad-4475-4dcb-a31e-5dd6caeefa4b",
     "showTitle": false,
     "tableResultSettingsMap": {
      "0": {
       "dataGridStateBlob": "{\"version\":1,\"tableState\":{\"columnPinning\":{\"left\":[\"#row_number#\"],\"right\":[]},\"columnSizing\":{},\"columnVisibility\":{}},\"settings\":{\"columns\":{}},\"syncTimestamp\":1757422136795}",
       "filterBlob": null,
       "queryPlanFiltersBlob": null,
       "tableResultIndex": 0
      }
     },
     "title": ""
    }
   },
   "outputs": [],
   "source": [
    "# data cleanup\n",
    "print(df_train.columns)\n",
    "print(df_test.columns)\n",
    "# drop columns\n",
    "df_train = df_train.drop('PassengerId', 'Name', 'Ticket','_rescued_data', 'Cabin')\n",
    "df_test = df_test.drop('PassengerId', 'Name', 'Ticket','_rescued_data', 'Cabin')\n",
    "display(df_train.fillna(0))\n",
    "df_train.select(\"Survived\").distinct().show()\n",
    "df_train.select(\"Pclass\").distinct().show()\n",
    "df_train.select(\"Sex\").distinct().show()\n",
    "df_train = df_train.na.fill(\"C\", subset=[\"Embarked\"])\n",
    "df_train.select(\"Embarked\").distinct().show()\n",
    "\n",
    "# Assume your DataFrame is called df_train and has a column \"Embarked\"\n",
    "# # Step 1: Convert string categories into numeric indices\n",
    "from pyspark.sql import SparkSession\n",
    "\n",
    "# Ensure SparkSession exists first\n",
    "spark = SparkSession.builder.getOrCreate()\n",
    "\n",
    "\n",
    "\n",
    "\n",
    "#pipeline = Pipeline(stages=[indexer, ohe])\n",
    "# indexerModel = indexer.fit(df_train)\n",
    "# # Transform the DataFrame using the fitted StringIndexer model\n",
    "# indexed_df = indexerModel.transform(df_train)\n",
    "\n",
    "# # Step 2: One-hot encode the indices\n",
    "# encoder = OneHotEncoder(inputCols=[\"Embarked_index\"], outputCols=[\"Embarked_vec\"])\n",
    "\n",
    "# # Step 3: Build pipeline\n",
    "# pipeline = Pipeline(stages=[indexer, encoder])\n",
    "\n",
    "# # Fit and transform\n",
    "# model = pipeline.fit(df_train)\n",
    "# df_encoded = model.transform(df_train)\n",
    "\n",
    "# # Show result\n",
    "# display(df_encoded.select(\"Embarked\", \"Embarked_index\", \"Embarked_vec\"))\n"
   ]
  },
  {
   "cell_type": "code",
   "execution_count": 0,
   "metadata": {
    "application/vnd.databricks.v1+cell": {
     "cellMetadata": {
      "byteLimit": 2048000,
      "rowLimit": 10000
     },
     "inputWidgets": {},
     "nuid": "a964ae05-5097-490f-9c8e-a449e0ebfb3a",
     "showTitle": false,
     "tableResultSettingsMap": {},
     "title": ""
    }
   },
   "outputs": [],
   "source": [
    "# one hot encoding of \"embarked column\"\n",
    "from pyspark.sql import SparkSession\n",
    "spark = SparkSession.builder.getOrCreate()\n",
    "from pyspark.ml.feature import StringIndexer, OneHotEncoder\n",
    "from pyspark.ml import Pipeline\n",
    "#indexer = StringIndexer(inputCol=\"Embarked\", outputCol=\"Embarked_Indexed\", handleInvalid=\"keep\")\n",
    "#spark\n",
    "#spark.sparkContext\n",
    "\n",
    "# Now it's safe to instantiate ML objects\n",
    "\n",
    "ohe = OneHotEncoder(inputCols=[\"Embarked_Indexed\"], outputCols=[\"Embarked_OHE\"])"
   ]
  },
  {
   "cell_type": "code",
   "execution_count": 0,
   "metadata": {
    "application/vnd.databricks.v1+cell": {
     "cellMetadata": {
      "byteLimit": 2048000,
      "rowLimit": 10000
     },
     "inputWidgets": {},
     "nuid": "bee4959e-7613-48d5-9518-f018d38f095e",
     "showTitle": false,
     "tableResultSettingsMap": {},
     "title": ""
    }
   },
   "outputs": [],
   "source": [
    "import pyspark, sys\n",
    "print(\"PySpark path:\", pyspark.__file__)  # should point to the Databricks runtime, not user site-packages\n",
    "print(\"Active session:\", SparkSession.getActiveSession())"
   ]
  }
 ],
 "metadata": {
  "application/vnd.databricks.v1+notebook": {
   "computePreferences": null,
   "dashboards": [],
   "environmentMetadata": {
    "base_environment": "",
    "environment_version": "3"
   },
   "inputWidgetPreferences": null,
   "language": "python",
   "notebookMetadata": {
    "pythonIndentUnit": 4
   },
   "notebookName": "titanic",
   "widgets": {}
  },
  "language_info": {
   "name": "python"
  }
 },
 "nbformat": 4,
 "nbformat_minor": 0
}
